{
 "cells": [
  {
   "cell_type": "code",
   "execution_count": 1,
   "id": "981b4d5a-1b68-4a6a-8db0-6c1bee2abc73",
   "metadata": {},
   "outputs": [],
   "source": [
    "import numpy as np \n",
    "import pandas as pd\n",
    "import torch\n",
    "from torch import nn \n",
    "from torch.utils.data import DataLoader,random_split,Dataset"
   ]
  },
  {
   "cell_type": "code",
   "execution_count": 2,
   "id": "6804e75d-4053-4bd2-8ade-d9887616f047",
   "metadata": {},
   "outputs": [],
   "source": [
    "import os"
   ]
  },
  {
   "cell_type": "code",
   "execution_count": 3,
   "id": "b0984dc8-a8ec-48a3-b921-4d6dd11abf3d",
   "metadata": {},
   "outputs": [],
   "source": [
    "texts = [] \n",
    "labels = [] \n",
    "for i in range(1,9): \n",
    "    dirname = f'gbab{i}'\n",
    "    for j in range(1,len(os.listdir(dirname))+1): \n",
    "        filename = dirname + '/'+f'hekayat{j}.txt'\n",
    "        with open(filename,encoding='utf-8') as f : \n",
    "            texts.append(f.readlines()[0]);\n",
    "            labels.append(i-1)"
   ]
  },
  {
   "cell_type": "code",
   "execution_count": 4,
   "id": "4c21d595-23f2-41b3-bbc9-6a165d753058",
   "metadata": {},
   "outputs": [],
   "source": [
    "import re"
   ]
  },
  {
   "cell_type": "code",
   "execution_count": 5,
   "id": "bdd0e1bf-6022-40b5-9466-35e47759202d",
   "metadata": {},
   "outputs": [
    {
     "data": {
      "text/plain": [
       "'پادشاهی را شنیدم به کشتن اسیری اشارت کرد بی چاره در آن حالت نومیدی ملک را دشنام دادن گرفت و سقط گفتن که گفته اند هر که دست از جان بشوید هر چه در دل دارد بگوید وقت ضرورت چو نماند گریز دست بگیرد سر شمشیر تیز إذا یئس الإنسان طال لسانه کسنور مغلوب یصول علی الکلب ملک پرسید چه می گوید یکی از وزرای نیک محضر گفت ای خداوند همی گوید و الکاظمین الغیظ و العافین عن الناس ملک را رحمت آمد و از سر خون او درگذشت وزیر دیگر که ضد او بود گفت ابنای جنس ما را نشاید در حضرت پادشاهان جز به راستی سخن گفتن این ملک را دشنام داد و ناسزا گفت ملک روی از این سخن در هم آورد و گفت آن دروغ وی پسندیده تر آمد مرا زین راست که تو گفتی که روی آن در مصلحتی بود و بنای این بر خبثی و خردمندان گفته اند دروغی مصلحت آمیز به که راستی فتنه انگیز هر که شاه آن کند که او گوید حیف باشد که جز نکو گوید بر طاق ایوان فریدون نبشته بود جهان ای برادر نماند به کس دل اندر جهان آفرین بند و بس مکن تکیه بر ملک دنیا و پشت که بسیار کس چون تو پرورد و کشت چو آهنگ رفتن کند جان پاک چه بر تخت مردن چه بر روی خاک '"
      ]
     },
     "execution_count": 5,
     "metadata": {},
     "output_type": "execute_result"
    }
   ],
   "source": [
    "texts = [re.sub(r'[\\u064B-\\u0652]','',t) for t in texts];\n",
    "texts[0]"
   ]
  },
  {
   "cell_type": "code",
   "execution_count": 6,
   "id": "b6c20581-d4b2-4303-967d-66a0f70782d3",
   "metadata": {},
   "outputs": [],
   "source": [
    "with open('stopwords.txt',encoding='utf-8') as f : \n",
    "    stopwords = set(f.read().split('\\n'))"
   ]
  },
  {
   "cell_type": "code",
   "execution_count": 7,
   "id": "0aa951d8-b3db-4d8f-87bd-d9e1a5a64cd9",
   "metadata": {},
   "outputs": [],
   "source": [
    "sentences = [t.split() for t in texts]"
   ]
  },
  {
   "cell_type": "code",
   "execution_count": 8,
   "id": "ba18c90a-20aa-4049-b228-4838d8c37006",
   "metadata": {},
   "outputs": [],
   "source": [
    "from collections import Counter\n",
    "def make_vocab(sentences, stopwords = set(), min_freq= 10): \n",
    "    cnt = Counter(word for sentence in sentences for word in sentence); \n",
    "    sentences = [[word for word in sentence if word not in stopwords and len(word)>2 and cnt[word]>=min_freq]\n",
    "                for sentence in sentences] \n",
    "    vocab = set(); \n",
    "    word2idx = {}; \n",
    "    idx2word = {} \n",
    "    index = 0; \n",
    "    pairs = [] \n",
    "    for sentence in sentences : \n",
    "        for i, word in enumerate(sentence): \n",
    "            if word not in vocab: \n",
    "                word2idx[word] = index; \n",
    "                idx2word[index] = word; \n",
    "                vocab.add(word); \n",
    "                index+=1; \n",
    "            start = max(i-3,0); \n",
    "            end = min(len(sentence),i+4); \n",
    "            for j in range(start,end): \n",
    "                if (i==j): continue; \n",
    "                pairs.append((word,sentence[j]));\n",
    "    return pairs,vocab,word2idx,idx2word"
   ]
  },
  {
   "cell_type": "code",
   "execution_count": 9,
   "id": "da0dd86e-cb81-4e4c-939f-5a0be35cfd14",
   "metadata": {},
   "outputs": [],
   "source": [
    "pairs,vocab,word2idx,idx2word = make_vocab(sentences,stopwords,min_freq=0)"
   ]
  },
  {
   "cell_type": "code",
   "execution_count": 10,
   "id": "b7dcbcfe-025b-4fd7-b27a-daa111ba5c4e",
   "metadata": {},
   "outputs": [],
   "source": [
    "class Text(Dataset): \n",
    "    def __init__(self, pairs): \n",
    "        super().__init__(); \n",
    "        self.pairs = pairs; \n",
    "    def __len__(self): return len(self.pairs) \n",
    "    def __getitem__(self, index): \n",
    "        return self.pairs[index][0],self.pairs[index][1]"
   ]
  },
  {
   "cell_type": "code",
   "execution_count": 11,
   "id": "974c475f-3ce7-43f4-b211-6c943b5cd55c",
   "metadata": {},
   "outputs": [
    {
     "data": {
      "text/plain": [
       "('پادشاهی', 'شنیدم')"
      ]
     },
     "execution_count": 11,
     "metadata": {},
     "output_type": "execute_result"
    }
   ],
   "source": [
    "dataset = Text(pairs);\n",
    "dataset[0]"
   ]
  },
  {
   "cell_type": "code",
   "execution_count": 12,
   "id": "df4b6b27-e1dc-406e-981d-58bc1af9081e",
   "metadata": {},
   "outputs": [],
   "source": [
    "def collate_fn(batch): \n",
    "    x,y = zip(*batch); \n",
    "    x = torch.tensor([word2idx[t] for t in x],dtype = torch.int64); \n",
    "    y = torch.tensor([word2idx[t] for t in y],dtype = torch.int64); \n",
    "    return x, y"
   ]
  },
  {
   "cell_type": "code",
   "execution_count": 38,
   "id": "70cd2980-a163-46d2-b059-74bce01f7e45",
   "metadata": {},
   "outputs": [],
   "source": [
    "from torch.nn.functional import logsigmoid"
   ]
  },
  {
   "cell_type": "code",
   "execution_count": 44,
   "id": "9642bbfc-ac65-4d90-8b79-6f366c03d8ee",
   "metadata": {},
   "outputs": [],
   "source": [
    "class Skip_gram(nn.Module): \n",
    "    def __init__(self, vocab_size,embedding_size): \n",
    "        super().__init__(); \n",
    "        self.in_embedding = nn.Embedding(vocab_size,embedding_size); \n",
    "        self.out_embedding = nn.Embedding(vocab_size,embedding_size); \n",
    "    def forward(self, in_ids,out_ids,neg_ids): \n",
    "        in_embed = self.in_embedding(in_ids); \n",
    "        out_embed = self.out_embedding(out_ids); \n",
    "        neg_embed = self.out_embedding(neg_ids); \n",
    "        pos_score = torch.sum(in_embed * out_embed,dim=1); \n",
    "        pos_score = logsigmoid(pos_score);\n",
    "        neg_score = torch.bmm(neg_embed,in_embed.unsqueeze(2)).squeeze(2);\n",
    "        neg_score = torch.sum(logsigmoid(-neg_score),dim = 1); \n",
    "        return -(neg_score+pos_score).mean();"
   ]
  },
  {
   "cell_type": "code",
   "execution_count": null,
   "id": "4210aa60-a224-4e4a-bacc-30161c8c49e8",
   "metadata": {},
   "outputs": [],
   "source": []
  },
  {
   "cell_type": "code",
   "execution_count": 45,
   "id": "5caaab96-7790-481e-8db1-e5939ff5e3a8",
   "metadata": {},
   "outputs": [],
   "source": [
    "def gen_neg_samples(vocab_size,pos_id,k = 5): \n",
    "    neg = []\n",
    "    while (len(neg)!=k): \n",
    "        w = np.random.randint(low=0,high=vocab_size,size=1)[0]; \n",
    "        if (w!=pos_id):neg.append(w);\n",
    "    return  neg"
   ]
  },
  {
   "cell_type": "code",
   "execution_count": 15,
   "id": "d6379c0c-3294-456d-a357-698da38a7f69",
   "metadata": {},
   "outputs": [],
   "source": [
    "loader = DataLoader(dataset,batch_size=64,shuffle=True,collate_fn=collate_fn);"
   ]
  },
  {
   "cell_type": "code",
   "execution_count": 46,
   "id": "6c1ab1e6-84a4-4a56-bc40-8bfa9a77a99e",
   "metadata": {},
   "outputs": [
    {
     "data": {
      "text/plain": [
       "Skip_gram(\n",
       "  (in_embedding): Embedding(6105, 100)\n",
       "  (out_embedding): Embedding(6105, 100)\n",
       ")"
      ]
     },
     "execution_count": 46,
     "metadata": {},
     "output_type": "execute_result"
    }
   ],
   "source": [
    "model = Skip_gram(vocab_size=len(vocab),embedding_size=100); \n",
    "model"
   ]
  },
  {
   "cell_type": "code",
   "execution_count": 49,
   "id": "4be35eb7-456d-4dbc-9807-e5304a586c24",
   "metadata": {},
   "outputs": [],
   "source": [
    "optimizer = torch.optim.Adam(lr=2e-3,params=model.parameters())"
   ]
  },
  {
   "cell_type": "code",
   "execution_count": 50,
   "id": "ae166ce1-bba8-4add-b976-4965794c747a",
   "metadata": {},
   "outputs": [
    {
     "name": "stdout",
     "output_type": "stream",
     "text": [
      "2.1333727836608887\n",
      "2.547220230102539\n",
      "2.4917523860931396\n",
      "2.3459975719451904\n",
      "2.730955123901367\n",
      "3.4252984523773193\n",
      "1.882370948791504\n",
      "1.8936411142349243\n",
      "1.9091267585754395\n",
      "2.283538818359375\n",
      "2.0655405521392822\n",
      "2.793238639831543\n",
      "1.7312777042388916\n",
      "1.3811575174331665\n",
      "1.7332048416137695\n",
      "1.5779465436935425\n",
      "1.2438122034072876\n",
      "1.9197956323623657\n",
      "1.8917874097824097\n",
      "1.4953420162200928\n",
      "1.7498544454574585\n",
      "1.066554307937622\n",
      "1.8110307455062866\n",
      "1.5388410091400146\n",
      "1.286677360534668\n",
      "1.0565507411956787\n",
      "1.2403383255004883\n",
      "1.2044761180877686\n",
      "1.2308852672576904\n",
      "1.3060466051101685\n",
      "1.3607048988342285\n",
      "1.7267804145812988\n",
      "0.6818877458572388\n",
      "1.186461329460144\n",
      "0.7782601714134216\n",
      "1.3580278158187866\n",
      "0.5462521314620972\n",
      "0.7103424072265625\n",
      "0.5929203629493713\n",
      "0.6478626132011414\n",
      "1.4068515300750732\n",
      "1.0919530391693115\n",
      "0.8499455451965332\n",
      "0.8690090775489807\n",
      "1.1679506301879883\n",
      "0.6179260015487671\n",
      "0.6931474208831787\n",
      "1.236621379852295\n",
      "0.8806464076042175\n",
      "0.8063183426856995\n",
      "0.824002206325531\n",
      "0.8305677175521851\n",
      "0.6808286905288696\n",
      "1.062554121017456\n",
      "0.6329334378242493\n",
      "1.1776434183120728\n",
      "1.3203009366989136\n",
      "1.0081661939620972\n",
      "0.85138338804245\n",
      "0.41391894221305847\n",
      "0.8653111457824707\n"
     ]
    }
   ],
   "source": [
    "b = 0; \n",
    "for _ in range(4): \n",
    "    model.train();\n",
    "    for x, y in loader : \n",
    "        optimizer.zero_grad();\n",
    "        negs = torch.tensor([gen_neg_samples(len(vocab),t.item()) for t in x],dtype =torch.int64)\n",
    "        loss = model(x,y,negs); \n",
    "        loss.backward(); \n",
    "        optimizer.step(); \n",
    "        b+=1;\n",
    "        if (b%100==0): print(loss.item())"
   ]
  },
  {
   "cell_type": "code",
   "execution_count": 52,
   "id": "50b89371-21a4-442b-9d8c-ab7d043b6d8b",
   "metadata": {},
   "outputs": [],
   "source": [
    "embedding = model.in_embedding.weight\n",
    "def topk(word, k=5): \n",
    "    scores = embedding[word2idx[word]]@embedding.t() \n",
    "    ids = scores.argsort()[-k:].tolist(); \n",
    "    words = [idx2word[Id] for Id in ids]\n",
    "    return words"
   ]
  },
  {
   "cell_type": "code",
   "execution_count": 57,
   "id": "ff18f2af-28f3-45e0-bae0-04d48e914997",
   "metadata": {},
   "outputs": [
    {
     "data": {
      "text/plain": [
       "['ثنایی', 'پوستینی', 'آزرم', 'برهاند', 'امیر']"
      ]
     },
     "execution_count": 57,
     "metadata": {},
     "output_type": "execute_result"
    }
   ],
   "source": [
    "topk('امیر')"
   ]
  },
  {
   "cell_type": "code",
   "execution_count": 59,
   "id": "9b17746e-c503-4d77-8094-bc654f8cd440",
   "metadata": {},
   "outputs": [
    {
     "data": {
      "text/plain": [
       "['پادشاهی',\n",
       " 'شنیدم',\n",
       " 'کشتن',\n",
       " 'اسیری',\n",
       " 'اشارت',\n",
       " 'چاره',\n",
       " 'حالت',\n",
       " 'نومیدی',\n",
       " 'ملک',\n",
       " 'دشنام',\n",
       " 'سقط',\n",
       " 'دست',\n",
       " 'جان',\n",
       " 'بشوید',\n",
       " 'وقت',\n",
       " 'ضرورت',\n",
       " 'نماند',\n",
       " 'گریز',\n",
       " 'دست',\n",
       " 'شمشیر',\n",
       " 'تیز',\n",
       " 'إذا',\n",
       " 'یئس',\n",
       " 'الإنسان',\n",
       " 'طال',\n",
       " 'لسانه',\n",
       " 'کسنور',\n",
       " 'مغلوب',\n",
       " 'یصول',\n",
       " 'علی',\n",
       " 'الکلب',\n",
       " 'ملک',\n",
       " 'پرسید',\n",
       " 'وزرای',\n",
       " 'نیک',\n",
       " 'محضر',\n",
       " 'خداوند',\n",
       " 'همی',\n",
       " 'الکاظمین',\n",
       " 'الغیظ',\n",
       " 'العافین',\n",
       " 'الناس',\n",
       " 'ملک',\n",
       " 'رحمت',\n",
       " 'خون',\n",
       " 'درگذشت',\n",
       " 'وزیر',\n",
       " 'ابنای',\n",
       " 'جنس',\n",
       " 'نشاید',\n",
       " 'حضرت',\n",
       " 'پادشاهان',\n",
       " 'سخن',\n",
       " 'ملک',\n",
       " 'دشنام',\n",
       " 'ناسزا',\n",
       " 'ملک',\n",
       " 'سخن',\n",
       " 'دروغ',\n",
       " 'پسندیده',\n",
       " 'زین',\n",
       " 'مصلحتی',\n",
       " 'بنای',\n",
       " 'خبثی',\n",
       " 'خردمندان',\n",
       " 'دروغی',\n",
       " 'مصلحت',\n",
       " 'آمیز',\n",
       " 'فتنه',\n",
       " 'انگیز',\n",
       " 'شاه',\n",
       " 'حیف',\n",
       " 'نکو',\n",
       " 'طاق',\n",
       " 'ایوان',\n",
       " 'فریدون',\n",
       " 'نبشته',\n",
       " 'جهان',\n",
       " 'برادر',\n",
       " 'نماند',\n",
       " 'اندر',\n",
       " 'جهان',\n",
       " 'آفرین',\n",
       " 'بند',\n",
       " 'مکن',\n",
       " 'تکیه',\n",
       " 'ملک',\n",
       " 'دنیا',\n",
       " 'پرورد',\n",
       " 'کشت',\n",
       " 'آهنگ',\n",
       " 'رفتن',\n",
       " 'جان',\n",
       " 'پاک',\n",
       " 'تخت',\n",
       " 'مردن',\n",
       " 'خاک']"
      ]
     },
     "execution_count": 59,
     "metadata": {},
     "output_type": "execute_result"
    }
   ],
   "source": [
    "cleaned_sentences = [[word for word in sentence if word in vocab]\n",
    "                     for sentence in sentences]\n",
    "cleaned_sentences[0]"
   ]
  },
  {
   "cell_type": "code",
   "execution_count": 60,
   "id": "d0d67112-0dc4-47c3-9b22-97d30392be4a",
   "metadata": {},
   "outputs": [],
   "source": [
    "X = [] \n",
    "for sentence in cleaned_sentences: \n",
    "    if len(sentence)==0: \n",
    "        X.append(np.zeros(100)); \n",
    "        continue; \n",
    "    l = np.array([embedding[word2idx[t]].detach().numpy() for t in sentence]).mean(0); \n",
    "    X.append(l);\n",
    "X = np.array(X)"
   ]
  },
  {
   "cell_type": "code",
   "execution_count": 66,
   "id": "4f74ff7f-0f8e-410a-8dac-0ebcbba4e96a",
   "metadata": {},
   "outputs": [],
   "source": [
    "from sklearn.model_selection import train_test_split\n",
    "labels = np.array(labels)\n",
    "x_train,x_test,y_train,y_test = train_test_split(X,labels,test_size=0.2,shuffle=True)"
   ]
  },
  {
   "cell_type": "code",
   "execution_count": 68,
   "id": "e29006f1-830f-4ae2-9301-b23500fbf33a",
   "metadata": {},
   "outputs": [],
   "source": [
    "from lightgbm import LGBMClassifier"
   ]
  },
  {
   "cell_type": "code",
   "execution_count": 69,
   "id": "5e760680-2775-4a18-9e74-674a983a9adf",
   "metadata": {},
   "outputs": [
    {
     "name": "stderr",
     "output_type": "stream",
     "text": [
      "C:\\Users\\msadr\\AppData\\Local\\Programs\\Python\\Python313\\Lib\\site-packages\\joblib\\externals\\loky\\backend\\context.py:136: UserWarning: Could not find the number of physical cores for the following reason:\n",
      "[WinError 2] The system cannot find the file specified\n",
      "Returning the number of logical cores instead. You can silence this warning by setting LOKY_MAX_CPU_COUNT to the number of cores you want to use.\n",
      "  warnings.warn(\n",
      "  File \"C:\\Users\\msadr\\AppData\\Local\\Programs\\Python\\Python313\\Lib\\site-packages\\joblib\\externals\\loky\\backend\\context.py\", line 257, in _count_physical_cores\n",
      "    cpu_info = subprocess.run(\n",
      "        \"wmic CPU Get NumberOfCores /Format:csv\".split(),\n",
      "        capture_output=True,\n",
      "        text=True,\n",
      "    )\n",
      "  File \"C:\\Users\\msadr\\AppData\\Local\\Programs\\Python\\Python313\\Lib\\subprocess.py\", line 554, in run\n",
      "    with Popen(*popenargs, **kwargs) as process:\n",
      "         ~~~~~^^^^^^^^^^^^^^^^^^^^^^\n",
      "  File \"C:\\Users\\msadr\\AppData\\Local\\Programs\\Python\\Python313\\Lib\\subprocess.py\", line 1036, in __init__\n",
      "    self._execute_child(args, executable, preexec_fn, close_fds,\n",
      "    ~~~~~~~~~~~~~~~~~~~^^^^^^^^^^^^^^^^^^^^^^^^^^^^^^^^^^^^^^^^^\n",
      "                        pass_fds, cwd, env,\n",
      "                        ^^^^^^^^^^^^^^^^^^^\n",
      "    ...<5 lines>...\n",
      "                        gid, gids, uid, umask,\n",
      "                        ^^^^^^^^^^^^^^^^^^^^^^\n",
      "                        start_new_session, process_group)\n",
      "                        ^^^^^^^^^^^^^^^^^^^^^^^^^^^^^^^^^\n",
      "  File \"C:\\Users\\msadr\\AppData\\Local\\Programs\\Python\\Python313\\Lib\\subprocess.py\", line 1548, in _execute_child\n",
      "    hp, ht, pid, tid = _winapi.CreateProcess(executable, args,\n",
      "                       ~~~~~~~~~~~~~~~~~~~~~^^^^^^^^^^^^^^^^^^\n",
      "                             # no special security\n",
      "                             ^^^^^^^^^^^^^^^^^^^^^\n",
      "    ...<4 lines>...\n",
      "                             cwd,\n",
      "                             ^^^^\n",
      "                             startupinfo)\n",
      "                             ^^^^^^^^^^^^\n",
      "C:\\Users\\msadr\\AppData\\Local\\Programs\\Python\\Python313\\Lib\\site-packages\\sklearn\\utils\\validation.py:2739: UserWarning: X does not have valid feature names, but LGBMClassifier was fitted with feature names\n",
      "  warnings.warn(\n"
     ]
    }
   ],
   "source": [
    "clf = LGBMClassifier(verbose=-1,n_estimators=4000); \n",
    "clf.fit(x_train,y_train); \n",
    "predict = clf.predict(x_test)"
   ]
  },
  {
   "cell_type": "code",
   "execution_count": 70,
   "id": "c722dedb-bbab-41d2-a68d-02aacfa16786",
   "metadata": {},
   "outputs": [
    {
     "data": {
      "text/plain": [
       "array([1, 2, 0, 0, 0, 0, 7, 1, 7, 7, 0, 1, 0, 7, 1, 1, 0, 7, 7, 7, 7, 7,\n",
       "       7, 4, 0, 7, 7, 7, 1, 7, 1, 7, 7, 0, 0, 7, 7, 7, 6, 0, 0, 7, 7, 0,\n",
       "       7, 1, 0, 1, 0, 7, 1, 6, 0, 7, 1, 1, 7, 7])"
      ]
     },
     "execution_count": 70,
     "metadata": {},
     "output_type": "execute_result"
    }
   ],
   "source": [
    "predict"
   ]
  },
  {
   "cell_type": "code",
   "execution_count": 72,
   "id": "471b81e6-b28d-486b-83b4-28db5e99aa7c",
   "metadata": {},
   "outputs": [],
   "source": [
    "from sklearn.metrics import accuracy_score,f1_score"
   ]
  },
  {
   "cell_type": "code",
   "execution_count": 73,
   "id": "7d6b8726-8a1a-4aa3-bc56-250be01fa7b5",
   "metadata": {},
   "outputs": [
    {
     "name": "stdout",
     "output_type": "stream",
     "text": [
      "0.27586206896551724\n"
     ]
    }
   ],
   "source": [
    "print(accuracy_score(predict,y_test))"
   ]
  },
  {
   "cell_type": "code",
   "execution_count": 74,
   "id": "e352176a-ac10-4249-9a13-7325d2ba0d60",
   "metadata": {},
   "outputs": [
    {
     "name": "stdout",
     "output_type": "stream",
     "text": [
      "0.1467391304347826\n"
     ]
    }
   ],
   "source": [
    "print(f1_score(predict,y_test,average='macro'))"
   ]
  },
  {
   "cell_type": "code",
   "execution_count": 75,
   "id": "064d5949-ef42-4d14-be33-320e24235fc4",
   "metadata": {},
   "outputs": [
    {
     "data": {
      "text/plain": [
       "0.125"
      ]
     },
     "execution_count": 75,
     "metadata": {},
     "output_type": "execute_result"
    }
   ],
   "source": [
    "1/8"
   ]
  }
 ],
 "metadata": {
  "kernelspec": {
   "display_name": "Python 3 (ipykernel)",
   "language": "python",
   "name": "python3"
  },
  "language_info": {
   "codemirror_mode": {
    "name": "ipython",
    "version": 3
   },
   "file_extension": ".py",
   "mimetype": "text/x-python",
   "name": "python",
   "nbconvert_exporter": "python",
   "pygments_lexer": "ipython3",
   "version": "3.13.0"
  }
 },
 "nbformat": 4,
 "nbformat_minor": 5
}
